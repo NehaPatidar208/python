{
 "cells": [
  {
   "cell_type": "code",
   "execution_count": 2,
   "metadata": {},
   "outputs": [
    {
     "name": "stdout",
     "output_type": "stream",
     "text": [
      "1,2,3,4,23,34\n"
     ]
    }
   ],
   "source": [
    "import pyttsx3\n",
    "sum=0\n",
    "fp=open(\"E:\\\\example1.txt\",\"r\")\n",
    "num = fp.read()\n",
    "for i in num.split(\",\"):\n",
    "    sum=sum+int(i)\n",
    "fp.close()\n",
    "engine=pyttsx3.init()\n",
    "print(num)\n",
    "engine.say(sum)\n",
    "\n",
    "engine.runAndWait()"
   ]
  },
  {
   "cell_type": "code",
   "execution_count": null,
   "metadata": {},
   "outputs": [],
   "source": []
  }
 ],
 "metadata": {
  "kernelspec": {
   "display_name": "Python 3",
   "language": "python",
   "name": "python3"
  },
  "language_info": {
   "codemirror_mode": {
    "name": "ipython",
    "version": 3
   },
   "file_extension": ".py",
   "mimetype": "text/x-python",
   "name": "python",
   "nbconvert_exporter": "python",
   "pygments_lexer": "ipython3",
   "version": "3.7.3"
  }
 },
 "nbformat": 4,
 "nbformat_minor": 2
}

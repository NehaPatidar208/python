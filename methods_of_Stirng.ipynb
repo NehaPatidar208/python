{
 "cells": [
  {
   "cell_type": "code",
   "execution_count": null,
   "metadata": {},
   "outputs": [],
   "source": [
    "s1='yahoo'\n",
    "s2='yahoo123'\n",
    "s3='yahoo_123'\n",
    "s4='_yahoo'\n",
    "s5='123'\n",
    "s6='yahoo@123'\n",
    "s7='_yahoo-123'"
   ]
  },
  {
   "cell_type": "code",
   "execution_count": 2,
   "metadata": {},
   "outputs": [
    {
     "name": "stdout",
     "output_type": "stream",
     "text": [
      "yahoo isalpha= True\n",
      "yahoo123 isalpha= False\n",
      "yahoo_123 isalpha= False\n",
      "_yahoo isalpha= False\n",
      "123 isalpha= False\n",
      "yahoo@123 isalpha= False\n",
      "_yahoo-123 isalpha= False\n",
      "yahoo isalnum= True\n",
      "yahoo123 isalnum= True\n",
      "yahoo_123 isalnum= False\n",
      "_yahoo isalnum= False\n",
      "123 isalnum= True\n",
      "yahoo@123 isalnum= False\n",
      "_yahoo-123 isalnum= False\n",
      "yahoo isnumeric= False\n",
      "yahoo123 isnumeric= False\n",
      "yahoo_123 isnumeric= False\n",
      "_yahoo isnumeric= False\n",
      "123 isnumeric= True\n",
      "yahoo@123 isnumeric= False\n",
      "_yahoo-123 isnumeric= False\n",
      "yahoo isidentifier= True\n",
      "yahoo123 isidentifier= True\n",
      "yahoo_123 isidentifier= True\n",
      "_yahoo isidentifier= True\n",
      "123 isidentifier= False\n",
      "yahoo@123 isidentifier= False\n",
      "_yahoo-123 isidentifier= False\n"
     ]
    }
   ],
   "source": [
    "print(s1,\"isalpha=\",s1.isalpha())\n",
    "print(s2,\"isalpha=\",s2.isalpha())\n",
    "print(s3,\"isalpha=\",s3.isalpha())\n",
    "print(s4,\"isalpha=\",s4.isalpha())\n",
    "print(s5,\"isalpha=\",s5.isalpha())\n",
    "print(s6,\"isalpha=\",s6.isalpha())\n",
    "print(s7,\"isalpha=\",s7.isalpha())\n",
    "print(s1,\"isalnum=\",s1.isalnum())\n",
    "print(s2,\"isalnum=\",s2.isalnum())\n",
    "print(s3,\"isalnum=\",s3.isalnum())\n",
    "print(s4,\"isalnum=\",s4.isalnum())\n",
    "print(s5,\"isalnum=\",s5.isalnum())\n",
    "print(s6,\"isalnum=\",s6.isalnum())\n",
    "print(s7,\"isalnum=\",s7.isalnum())\n",
    "print(s1,\"isnumeric=\",s1.isnumeric())\n",
    "print(s2,\"isnumeric=\",s2.isnumeric())\n",
    "print(s3,\"isnumeric=\",s3.isnumeric())\n",
    "print(s4,\"isnumeric=\",s4.isnumeric())\n",
    "print(s5,\"isnumeric=\",s5.isnumeric())\n",
    "print(s6,\"isnumeric=\",s6.isnumeric())\n",
    "print(s7,\"isnumeric=\",s7.isnumeric())\n",
    "print(s1,\"isidentifier=\",s1.isidentifier())\n",
    "print(s2,\"isidentifier=\",s2.isidentifier())\n",
    "print(s3,\"isidentifier=\",s3.isidentifier())\n",
    "print(s4,\"isidentifier=\",s4.isidentifier())\n",
    "print(s5,\"isidentifier=\",s5.isidentifier())\n",
    "print(s6,\"isidentifier=\",s6.isidentifier())\n",
    "print(s7,\"isidentifier=\",s7.isidentifier())"
   ]
  },
  {
   "cell_type": "markdown",
   "metadata": {},
   "source": [
    "##\n",
    "##\n",
    "##\n",
    "## find\n",
    "## replace\n",
    "## split\n",
    "## title\n",
    "## upper\n",
    "## lower\n",
    "## strip"
   ]
  },
  {
   "cell_type": "code",
   "execution_count": 3,
   "metadata": {},
   "outputs": [],
   "source": [
    "s1=\" welcome to Delhi \""
   ]
  },
  {
   "cell_type": "code",
   "execution_count": 4,
   "metadata": {},
   "outputs": [
    {
     "name": "stdout",
     "output_type": "stream",
     "text": [
      " welcome to Delhi \n",
      "-1\n",
      " welcome to Pune \n",
      " welcome to Delhi \n"
     ]
    }
   ],
   "source": [
    "print(s1)\n",
    "print(s1.find('Dehli'))\n",
    "print(s1.replace('Delhi',\"Pune\"))\n",
    "print(s1)"
   ]
  },
  {
   "cell_type": "code",
   "execution_count": 5,
   "metadata": {},
   "outputs": [
    {
     "name": "stdout",
     "output_type": "stream",
     "text": [
      " Welcome To Delhi \n",
      " welcome to delhi \n",
      " WELCOME TO DELHI \n",
      " WELCOME TO dELHI \n",
      "welcome to Delhi\n",
      "['', 'welcome', 'to', 'Delhi', '']\n"
     ]
    }
   ],
   "source": [
    "print(s1.title())     #title format\n",
    "print(s1.lower())     #lowercase format\n",
    "print(s1.upper())     #uppercsae format\n",
    "print(s1.swapcase())     #swapcase format\n",
    "print(s1.strip())     #remove spaces from beginning and ending\n",
    "print(s1.split(\" \"))  #split the sentence from space"
   ]
  },
  {
   "cell_type": "code",
   "execution_count": 6,
   "metadata": {},
   "outputs": [
    {
     "name": "stdout",
     "output_type": "stream",
     "text": [
      "6\n",
      "1\n"
     ]
    }
   ],
   "source": [
    "print(s1.index('m'))\n",
    "print(s1.count('w'))"
   ]
  },
  {
   "cell_type": "code",
   "execution_count": null,
   "metadata": {},
   "outputs": [],
   "source": []
  }
 ],
 "metadata": {
  "kernelspec": {
   "display_name": "Python 3",
   "language": "python",
   "name": "python3"
  },
  "language_info": {
   "codemirror_mode": {
    "name": "ipython",
    "version": 3
   },
   "file_extension": ".py",
   "mimetype": "text/x-python",
   "name": "python",
   "nbconvert_exporter": "python",
   "pygments_lexer": "ipython3",
   "version": "3.7.3"
  }
 },
 "nbformat": 4,
 "nbformat_minor": 2
}

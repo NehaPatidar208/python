{
 "cells": [
  {
   "cell_type": "code",
   "execution_count": null,
   "metadata": {},
   "outputs": [],
   "source": [
    "import socket,time,pyttsx3\n",
    "target_ip=\"127.0.0.4\"\n",
    "target_port=1233\n",
    "s=socket.socket(socket.AF_INET ,socket.SOCK_DGRAM)\n",
    "#for receiver\n",
    "s.bind((target_ip,target_port))\n",
    "#print(s.recvfrom(100))\n",
    "#time.sleep(1)\n",
    "while True:\n",
    "    client_data=s.recvfrom(200)\n",
    "    print(client_data)\n",
    "    #now converting to audio\n",
    "    audio=pyttsx3.init()\n",
    "    audio.say(client_data[0].decode('ascii'))\n",
    "    audio.runAndWait()\n",
    "    time.sleep(1)\n",
    "    print(\"Now reply to client\",client_data[1][0])\n",
    "    s.sendto(\"hii thanks for the message\".encode('ascii'),client_data[1])\n",
    "    \n",
    "    #now saving data for client\n",
    "    #subpocess.getoutput(\"touch\"+client_data[1][0]+\".txt\")\n",
    "    #with open(client_data[1][0]+\".txt\",'a') as f:\n",
    "        #f.write(client_data[0].decode(\"ascii\"))\n",
    "s.close()"
   ]
  },
  {
   "cell_type": "code",
   "execution_count": null,
   "metadata": {},
   "outputs": [],
   "source": []
  }
 ],
 "metadata": {
  "kernelspec": {
   "display_name": "Python 3",
   "language": "python",
   "name": "python3"
  },
  "language_info": {
   "codemirror_mode": {
    "name": "ipython",
    "version": 3
   },
   "file_extension": ".py",
   "mimetype": "text/x-python",
   "name": "python",
   "nbconvert_exporter": "python",
   "pygments_lexer": "ipython3",
   "version": "3.7.3"
  }
 },
 "nbformat": 4,
 "nbformat_minor": 2
}

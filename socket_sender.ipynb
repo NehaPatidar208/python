{
 "cells": [
  {
   "cell_type": "code",
   "execution_count": null,
   "metadata": {},
   "outputs": [],
   "source": [
    "import socket,time\n",
    "target_ip=\"127.0.0.4\"\n",
    "target_port=1233\n",
    "s=socket.socket(socket.AF_INET ,socket.SOCK_DGRAM)\n",
    "#for receiver\n",
    "s.connect((target_ip,target_port))\n",
    "#print(s.recvfrom(100))\n",
    "#time.sleep(1)\n",
    "\n",
    "#for sender\n",
    "while(True):\n",
    "    msg=input(\"Plz enter the message\")\n",
    "    newmsg=msg.encode('ascii')\n",
    "    s.sendto(newmsg,(target_ip,target_port))\n",
    "    \n",
    "    print(s.recvfrom(100))\n",
    "s.close()"
   ]
  },
  {
   "cell_type": "code",
   "execution_count": null,
   "metadata": {},
   "outputs": [],
   "source": []
  }
 ],
 "metadata": {
  "kernelspec": {
   "display_name": "Python 3",
   "language": "python",
   "name": "python3"
  },
  "language_info": {
   "codemirror_mode": {
    "name": "ipython",
    "version": 3
   },
   "file_extension": ".py",
   "mimetype": "text/x-python",
   "name": "python",
   "nbconvert_exporter": "python",
   "pygments_lexer": "ipython3",
   "version": "3.7.3"
  }
 },
 "nbformat": 4,
 "nbformat_minor": 2
}
